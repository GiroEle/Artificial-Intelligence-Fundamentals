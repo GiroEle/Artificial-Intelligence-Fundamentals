{
  "nbformat": 4,
  "nbformat_minor": 0,
  "metadata": {
    "colab": {
      "name": "lab4.ipynb",
      "provenance": [],
      "collapsed_sections": []
    },
    "language_info": {
      "codemirror_mode": {
        "name": "ipython",
        "version": 3
      },
      "file_extension": ".py",
      "mimetype": "text/x-python",
      "name": "python",
      "nbconvert_exporter": "python",
      "pygments_lexer": "ipython3",
      "version": "3.6.7"
    },
    "kernelspec": {
      "display_name": "Python 3",
      "language": "python",
      "name": "python3"
    }
  },
  "cells": [
    {
      "cell_type": "markdown",
      "metadata": {
        "id": "fWJaZtuVsJA4",
        "colab_type": "text"
      },
      "source": [
        "# Lab 4: Data Imputation using an Autoencoder\n",
        "\n",
        "**Deadline**: Sunday, June 16, 9pm\n",
        "\n",
        "**Late Penalty**: There is a penalty-free grace period of one hour past the deadline. Any work that is submitted between 1 hour and 24 hours past the deadline will receive a 20% grade deduction. No other late work is accepted. Quercus submission time will be used, not your local computer time. You can submit your labs as many times as you want before the deadline, so please submit often and early.\n",
        "\n",
        "**TA**: Huan Ling\n",
        "\n",
        "In this lab, you will build and train an autoencoder to impute (or \"fill in\") missing data. \n",
        "\n",
        "We will be using the\n",
        "Adult Data Set provided by the UCI Machine Learning Repository [1], available \n",
        "at https://archive.ics.uci.edu/ml/datasets/adult.\n",
        "The data set contains census record files of adults, including their\n",
        "age, martial status, the type of work they do, and other features. \n",
        "\n",
        "Normally, people use this data set to build a supervised classification\n",
        "model to classify whether a person is a high income earner.\n",
        "We will not use the dataset for this original intended purpose.\n",
        "\n",
        "Instead, we will perform the task of imputing (or \"filling in\") missing values in the dataset. For example,\n",
        "we may be missing one person's martial status, and another person's age, and\n",
        "a third person's level of education. Our model will predict the missing features \n",
        "based on the information that we do have about each person.\n",
        "\n",
        "We will use a variation of a denoising autoencoder to solve this data imputation\n",
        "problem. Our autoencoder will be trained using inputs that have one categorical feature artificially\n",
        "removed, and the goal of the autoencoder is to correctly reconstruct all features,\n",
        "including the one removed from the input.\n",
        "\n",
        "In the process, you are expected to learn to:\n",
        "\n",
        "1. Clean and process continuous and categorical data for machine learning.\n",
        "2. Implement an autoencoder that takes continuous and categorical (one-hot) inputs.\n",
        "3. Tune the hyperparameters of an autoencoder.\n",
        "4. Use baseline models to help interpret model performance.\n",
        "\n",
        "[1] Dua, D. and Karra Taniskidou, E. (2017). UCI Machine Learning Repository [http://archive.ics.uci.edu/ml]. Irvine, CA: University of California, School of Information and Computer Science.\n",
        "\n",
        "\n",
        "### What to submit\n",
        "\n",
        "Submit a PDF file containing all your code, outputs, and write-up. You can produce a PDF of your Google Colab file by going to File > Print and then save as PDF. The Colab instructions have more information.\n",
        "\n",
        "Do not submit any other files produced by your code.\n",
        "\n",
        "Include a link to your colab file in your submission.\n"
      ]
    },
    {
      "cell_type": "markdown",
      "metadata": {
        "id": "VVaK_JWHsJA5",
        "colab_type": "text"
      },
      "source": [
        "## Colab Link\n",
        "\n",
        "Include a link to your Colab file here. If you would like the TA to look at your\n",
        "Colab file in case your solutions are cut off, **please make sure that your Colab\n",
        "file is publicly accessible at the time of submission**.\n",
        "\n",
        "Colab Link:https://colab.research.google.com/drive/14mWMcL46ojKV9ek6nXcKimwqo7tbC5N_"
      ]
    },
    {
      "cell_type": "code",
      "metadata": {
        "id": "aAzx5uUfsJA6",
        "colab_type": "code",
        "colab": {}
      },
      "source": [
        "import csv\n",
        "import numpy as np\n",
        "import random\n",
        "import torch\n",
        "import torch.utils.data\n",
        "\n",
        "\n",
        "import matplotlib.pyplot as plt"
      ],
      "execution_count": 0,
      "outputs": []
    },
    {
      "cell_type": "markdown",
      "metadata": {
        "id": "1iU6ARovsJA9",
        "colab_type": "text"
      },
      "source": [
        "## Part 0\n",
        "\n",
        "We will be using a package called `pandas` for this assignment. \n",
        "\n",
        "If you are using Colab, `pandas` should already be available.\n",
        "If you are using your own computer,\n",
        "installation instructions for `pandas` are available here: \n",
        "https://pandas.pydata.org/pandas-docs/stable/install.html"
      ]
    },
    {
      "cell_type": "code",
      "metadata": {
        "id": "UqAbn_MpsJA9",
        "colab_type": "code",
        "colab": {}
      },
      "source": [
        "import pandas as pd"
      ],
      "execution_count": 0,
      "outputs": []
    },
    {
      "cell_type": "markdown",
      "metadata": {
        "id": "L13ZiJacsJA_",
        "colab_type": "text"
      },
      "source": [
        "# Part 1. Data Cleaning [15 pt]\n",
        "\n",
        "The adult.data file is available at `https://archive.ics.uci.edu/ml/machine-learning-databases/adult/adult.data`\n",
        "\n",
        "The function `pd.read_csv` loads the adult.data file into a pandas dataframe.\n",
        "You can read about the pandas documentation for `pd.read_csv` at\n",
        "https://pandas.pydata.org/pandas-docs/stable/reference/api/pandas.read_csv.html"
      ]
    },
    {
      "cell_type": "code",
      "metadata": {
        "id": "dyyIxGllsJBA",
        "colab_type": "code",
        "colab": {}
      },
      "source": [
        "header = ['age', 'work', 'fnlwgt', 'edu', 'yredu', 'marriage', 'occupation',\n",
        " 'relationship', 'race', 'sex', 'capgain', 'caploss', 'workhr', 'country']\n",
        "df = pd.read_csv(\n",
        "    \"https://archive.ics.uci.edu/ml/machine-learning-databases/adult/adult.data\",\n",
        "    names=header,\n",
        "    index_col=False)"
      ],
      "execution_count": 0,
      "outputs": []
    },
    {
      "cell_type": "code",
      "metadata": {
        "scrolled": true,
        "id": "5T1zG_XtsJBC",
        "colab_type": "code",
        "outputId": "8fbe68f9-ee35-4056-fce8-fb39ae26f845",
        "colab": {
          "base_uri": "https://localhost:8080/",
          "height": 34
        }
      },
      "source": [
        "df.shape # there are 32561 rows (records) in the data frame, and 14 columns (features)"
      ],
      "execution_count": 0,
      "outputs": [
        {
          "output_type": "execute_result",
          "data": {
            "text/plain": [
              "(32561, 14)"
            ]
          },
          "metadata": {
            "tags": []
          },
          "execution_count": 4
        }
      ]
    },
    {
      "cell_type": "markdown",
      "metadata": {
        "id": "fuxs-tmRsJBF",
        "colab_type": "text"
      },
      "source": [
        "### Part (a) Continuous Features [3 pt]\n",
        "\n",
        "For each of the columns `[\"age\", \"yredu\", \"capgain\", \"caploss\", \"workhr\"]`, report the minimum, maximum, and average value across the dataset. \n",
        "\n",
        "Then, normalize each of the features `[\"age\", \"yredu\", \"capgain\", \"caploss\", \"workhr\"]`\n",
        "so that their values are always between 0 and 1.\n",
        "Make sure that you are actually modifying the dataframe `df`. \n",
        "\n",
        "Like numpy arrays and torch tensors, \n",
        "pandas data frames can be sliced. For example, we can\n",
        "display the first 3 rows of the data frame (3 records) below."
      ]
    },
    {
      "cell_type": "code",
      "metadata": {
        "scrolled": false,
        "id": "gg_9qWNXsJBG",
        "colab_type": "code",
        "outputId": "ca028bbb-71e7-4d0c-cba4-0a482b4fe814",
        "colab": {
          "base_uri": "https://localhost:8080/",
          "height": 142
        }
      },
      "source": [
        "df[:3] # show the first 3 records"
      ],
      "execution_count": 0,
      "outputs": [
        {
          "output_type": "execute_result",
          "data": {
            "text/html": [
              "<div>\n",
              "<style scoped>\n",
              "    .dataframe tbody tr th:only-of-type {\n",
              "        vertical-align: middle;\n",
              "    }\n",
              "\n",
              "    .dataframe tbody tr th {\n",
              "        vertical-align: top;\n",
              "    }\n",
              "\n",
              "    .dataframe thead th {\n",
              "        text-align: right;\n",
              "    }\n",
              "</style>\n",
              "<table border=\"1\" class=\"dataframe\">\n",
              "  <thead>\n",
              "    <tr style=\"text-align: right;\">\n",
              "      <th></th>\n",
              "      <th>age</th>\n",
              "      <th>work</th>\n",
              "      <th>fnlwgt</th>\n",
              "      <th>edu</th>\n",
              "      <th>yredu</th>\n",
              "      <th>marriage</th>\n",
              "      <th>occupation</th>\n",
              "      <th>relationship</th>\n",
              "      <th>race</th>\n",
              "      <th>sex</th>\n",
              "      <th>capgain</th>\n",
              "      <th>caploss</th>\n",
              "      <th>workhr</th>\n",
              "      <th>country</th>\n",
              "    </tr>\n",
              "  </thead>\n",
              "  <tbody>\n",
              "    <tr>\n",
              "      <th>0</th>\n",
              "      <td>39</td>\n",
              "      <td>State-gov</td>\n",
              "      <td>77516</td>\n",
              "      <td>Bachelors</td>\n",
              "      <td>13</td>\n",
              "      <td>Never-married</td>\n",
              "      <td>Adm-clerical</td>\n",
              "      <td>Not-in-family</td>\n",
              "      <td>White</td>\n",
              "      <td>Male</td>\n",
              "      <td>2174</td>\n",
              "      <td>0</td>\n",
              "      <td>40</td>\n",
              "      <td>United-States</td>\n",
              "    </tr>\n",
              "    <tr>\n",
              "      <th>1</th>\n",
              "      <td>50</td>\n",
              "      <td>Self-emp-not-inc</td>\n",
              "      <td>83311</td>\n",
              "      <td>Bachelors</td>\n",
              "      <td>13</td>\n",
              "      <td>Married-civ-spouse</td>\n",
              "      <td>Exec-managerial</td>\n",
              "      <td>Husband</td>\n",
              "      <td>White</td>\n",
              "      <td>Male</td>\n",
              "      <td>0</td>\n",
              "      <td>0</td>\n",
              "      <td>13</td>\n",
              "      <td>United-States</td>\n",
              "    </tr>\n",
              "    <tr>\n",
              "      <th>2</th>\n",
              "      <td>38</td>\n",
              "      <td>Private</td>\n",
              "      <td>215646</td>\n",
              "      <td>HS-grad</td>\n",
              "      <td>9</td>\n",
              "      <td>Divorced</td>\n",
              "      <td>Handlers-cleaners</td>\n",
              "      <td>Not-in-family</td>\n",
              "      <td>White</td>\n",
              "      <td>Male</td>\n",
              "      <td>0</td>\n",
              "      <td>0</td>\n",
              "      <td>40</td>\n",
              "      <td>United-States</td>\n",
              "    </tr>\n",
              "  </tbody>\n",
              "</table>\n",
              "</div>"
            ],
            "text/plain": [
              "   age               work  fnlwgt  ... caploss  workhr         country\n",
              "0   39          State-gov   77516  ...       0      40   United-States\n",
              "1   50   Self-emp-not-inc   83311  ...       0      13   United-States\n",
              "2   38            Private  215646  ...       0      40   United-States\n",
              "\n",
              "[3 rows x 14 columns]"
            ]
          },
          "metadata": {
            "tags": []
          },
          "execution_count": 5
        }
      ]
    },
    {
      "cell_type": "markdown",
      "metadata": {
        "id": "sTuCP4TosJBI",
        "colab_type": "text"
      },
      "source": [
        "Alternatively, we can slice based on column names, \n",
        "for example `df[\"race\"]`, `df[\"hr\"]`, or even index multiple columns \n",
        "like below."
      ]
    },
    {
      "cell_type": "code",
      "metadata": {
        "id": "SjSt8x2ZsJBI",
        "colab_type": "code",
        "outputId": "e04dd81f-1398-4af9-b116-8fc93b669e4c",
        "colab": {
          "base_uri": "https://localhost:8080/",
          "height": 142
        }
      },
      "source": [
        "subdf = df[[\"age\", \"yredu\", \"capgain\", \"caploss\", \"workhr\"]]\n",
        "subdf[:3] # show the first 3 records"
      ],
      "execution_count": 0,
      "outputs": [
        {
          "output_type": "execute_result",
          "data": {
            "text/html": [
              "<div>\n",
              "<style scoped>\n",
              "    .dataframe tbody tr th:only-of-type {\n",
              "        vertical-align: middle;\n",
              "    }\n",
              "\n",
              "    .dataframe tbody tr th {\n",
              "        vertical-align: top;\n",
              "    }\n",
              "\n",
              "    .dataframe thead th {\n",
              "        text-align: right;\n",
              "    }\n",
              "</style>\n",
              "<table border=\"1\" class=\"dataframe\">\n",
              "  <thead>\n",
              "    <tr style=\"text-align: right;\">\n",
              "      <th></th>\n",
              "      <th>age</th>\n",
              "      <th>yredu</th>\n",
              "      <th>capgain</th>\n",
              "      <th>caploss</th>\n",
              "      <th>workhr</th>\n",
              "    </tr>\n",
              "  </thead>\n",
              "  <tbody>\n",
              "    <tr>\n",
              "      <th>0</th>\n",
              "      <td>39</td>\n",
              "      <td>13</td>\n",
              "      <td>2174</td>\n",
              "      <td>0</td>\n",
              "      <td>40</td>\n",
              "    </tr>\n",
              "    <tr>\n",
              "      <th>1</th>\n",
              "      <td>50</td>\n",
              "      <td>13</td>\n",
              "      <td>0</td>\n",
              "      <td>0</td>\n",
              "      <td>13</td>\n",
              "    </tr>\n",
              "    <tr>\n",
              "      <th>2</th>\n",
              "      <td>38</td>\n",
              "      <td>9</td>\n",
              "      <td>0</td>\n",
              "      <td>0</td>\n",
              "      <td>40</td>\n",
              "    </tr>\n",
              "  </tbody>\n",
              "</table>\n",
              "</div>"
            ],
            "text/plain": [
              "   age  yredu  capgain  caploss  workhr\n",
              "0   39     13     2174        0      40\n",
              "1   50     13        0        0      13\n",
              "2   38      9        0        0      40"
            ]
          },
          "metadata": {
            "tags": []
          },
          "execution_count": 6
        }
      ]
    },
    {
      "cell_type": "markdown",
      "metadata": {
        "id": "-oVJ65FJsJBK",
        "colab_type": "text"
      },
      "source": [
        "Numpy works nicely with pandas, like below:"
      ]
    },
    {
      "cell_type": "code",
      "metadata": {
        "id": "dqDLUddwsJBL",
        "colab_type": "code",
        "outputId": "0ff82c61-7ff5-4795-fc57-0a233ab52e41",
        "colab": {
          "base_uri": "https://localhost:8080/",
          "height": 34
        }
      },
      "source": [
        "np.sum(subdf[\"caploss\"])"
      ],
      "execution_count": 0,
      "outputs": [
        {
          "output_type": "execute_result",
          "data": {
            "text/plain": [
              "2842700"
            ]
          },
          "metadata": {
            "tags": []
          },
          "execution_count": 7
        }
      ]
    },
    {
      "cell_type": "markdown",
      "metadata": {
        "id": "wWsRYRH5sJBN",
        "colab_type": "text"
      },
      "source": [
        "Just like numpy arrays, you can modify\n",
        "entire columns of data rather than one scalar element at a time.\n",
        "For example, the code  \n",
        "\n",
        "`df[\"age\"] = df[\"age\"] + 1` \n",
        "\n",
        "would increment everyone's age by 1."
      ]
    },
    {
      "cell_type": "code",
      "metadata": {
        "id": "yMkM-HsysJBN",
        "colab_type": "code",
        "colab": {}
      },
      "source": [
        "#find max and min values for each specified index\n",
        "#store in 2 1 by 5 array\n",
        "title=[\"age\", \"yredu\", \"capgain\", \"caploss\", \"workhr\"]\n",
        "minn=[]\n",
        "maxx=[]\n",
        "for i in range(len(title)):\n",
        "  maxx.append(np.amax(df[title[i]]))\n",
        "  minn.append(np.amin(df[title[i]]))\n",
        "\n",
        "#normalize using (x-min)/(max-min)\n",
        "for i in range(len(title)):\n",
        "  df[title[i]]=(df[title[i]]-minn[i])/(maxx[i]-minn[i])\n"
      ],
      "execution_count": 0,
      "outputs": []
    },
    {
      "cell_type": "markdown",
      "metadata": {
        "id": "EjxdXqj8sJBO",
        "colab_type": "text"
      },
      "source": [
        "### Part (b) Categorical Features [1 pt]\n",
        "\n",
        "What percentage of people in our data set are male? Note that the data labels all have an unfortunate space in the beginning, e.g. \" Male\" instead of \"Male\".\n",
        "\n",
        "What percentage of people in our data set are female?"
      ]
    },
    {
      "cell_type": "code",
      "metadata": {
        "id": "dfn90PNOsJBP",
        "colab_type": "code",
        "outputId": "5949761a-a3e9-45e1-e16a-b8c368c0a3b0",
        "colab": {
          "base_uri": "https://localhost:8080/",
          "height": 51
        }
      },
      "source": [
        "# hint: you can do something like this in pandas\n",
        "sum(df[\"sex\"] == \" Male\")\n",
        "print(\"Male: \",sum(df[\"sex\"] == \" Male\")/len(df[\"sex\"]))\n",
        "print(\"Female: \",sum(df[\"sex\"] == \" Female\")/len(df[\"sex\"]))\n",
        "#66.92% of the dataset is Male\n",
        "#33.08% of the dataset is Female "
      ],
      "execution_count": 0,
      "outputs": [
        {
          "output_type": "stream",
          "text": [
            "Male:  0.6692054912318418\n",
            "Female:  0.33079450876815825\n"
          ],
          "name": "stdout"
        }
      ]
    },
    {
      "cell_type": "markdown",
      "metadata": {
        "id": "_M97KBhdsJBQ",
        "colab_type": "text"
      },
      "source": [
        "### Part (c) [2 pt]\n",
        "\n",
        "Before proceeding, we will modify our data frame in a couple more ways:\n",
        "\n",
        "1. We will restrict ourselves to using a subset of the features (to simplify our autoencoder)\n",
        "2. We will remove any records (rows) already containing missing values, and store them in a second dataframe. We will only use records without missing values to train our autoencoder.\n",
        "\n",
        "Both of these steps are done for you, below.\n",
        "\n",
        "How many records contained missing features? What percentage of records were removed?"
      ]
    },
    {
      "cell_type": "code",
      "metadata": {
        "id": "vnGWG1ICsJBR",
        "colab_type": "code",
        "colab": {}
      },
      "source": [
        "contcols = [\"age\", \"yredu\", \"capgain\", \"caploss\", \"workhr\"]\n",
        "catcols = [\"work\", \"marriage\", \"occupation\", \"edu\", \"relationship\", \"sex\"]\n",
        "features = contcols + catcols\n",
        "df = df[features]"
      ],
      "execution_count": 0,
      "outputs": []
    },
    {
      "cell_type": "code",
      "metadata": {
        "id": "WJWXjhA4sJBS",
        "colab_type": "code",
        "colab": {}
      },
      "source": [
        "missing = pd.concat([df[c] == \" ?\" for c in catcols], axis=1).any(axis=1)\n",
        "df_with_missing = df[missing]\n",
        "df_not_missing = df[~missing]"
      ],
      "execution_count": 0,
      "outputs": []
    },
    {
      "cell_type": "code",
      "metadata": {
        "id": "6PksMk4uzvM6",
        "colab_type": "code",
        "outputId": "e7729972-44cc-460f-b046-dca11840b45e",
        "colab": {
          "base_uri": "https://localhost:8080/",
          "height": 85
        }
      },
      "source": [
        "#find amount of records missing features and percentage\n",
        "print(\"Total df:\", len(df))\n",
        "print(\"Total df & missing:\",len(df_with_missing))\n",
        "print(\"Total df without missing:\",len(df_not_missing))\n",
        "print(\"Percentage of recorded removed\", len(df_with_missing)/len(df))\n",
        "#5.66% removed\n"
      ],
      "execution_count": 0,
      "outputs": [
        {
          "output_type": "stream",
          "text": [
            "Total df: 32561\n",
            "Total df & missing: 1843\n",
            "Total df without missing: 30718\n",
            "Percentage of recorded removed 0.056601455729246644\n"
          ],
          "name": "stdout"
        }
      ]
    },
    {
      "cell_type": "markdown",
      "metadata": {
        "id": "JIiVY6PrsJBU",
        "colab_type": "text"
      },
      "source": [
        "### Part (d) One-Hot Encoding [1 pt]\n",
        "\n",
        "What are all the possible values of the feature \"work\" in `df_not_missing`? You may find the Python function `set` useful."
      ]
    },
    {
      "cell_type": "code",
      "metadata": {
        "id": "t_TzGWlSsJBU",
        "colab_type": "code",
        "outputId": "3589bf0b-6a02-4828-f48d-9fcb588b04e3",
        "colab": {
          "base_uri": "https://localhost:8080/",
          "height": 34
        }
      },
      "source": [
        "value_w={\"\"}\n",
        "for i in range(len(df)):\n",
        "  temp={df[\"work\"][i]}.difference(value_w)\n",
        "  value_w=value_w.union(temp)\n",
        "value_w.remove('')\n",
        "value_w.remove(\" ?\")\n",
        "\n",
        "print(value_w)\n",
        "\n",
        "\n",
        "#Therefore the values of the feature \"work\" are\n",
        "#{' State-gov', ' Federal-gov', ' Never-worked', ' Self-emp-not-inc', ' Self-emp-inc', ' Private', ' Without-pay', ' Local-gov'}"
      ],
      "execution_count": 0,
      "outputs": [
        {
          "output_type": "stream",
          "text": [
            "{' Self-emp-inc', ' Without-pay', ' Never-worked', ' State-gov', ' Local-gov', ' Private', ' Federal-gov', ' Self-emp-not-inc'}\n"
          ],
          "name": "stdout"
        }
      ]
    },
    {
      "cell_type": "markdown",
      "metadata": {
        "id": "YhfkJW8dsJBV",
        "colab_type": "text"
      },
      "source": [
        "We will be using a one-hot encoding to represent each of the categorical variables.\n",
        "Our autoencoder will be trained using these one-hot encodings.\n",
        "\n",
        "We will use the pandas function `get_dummies` to produce one-hot encodings\n",
        "for all of the categorical variables in `df_not_missing`. "
      ]
    },
    {
      "cell_type": "code",
      "metadata": {
        "id": "acfocWAusJBW",
        "colab_type": "code",
        "colab": {}
      },
      "source": [
        "data = pd.get_dummies(df_not_missing)"
      ],
      "execution_count": 0,
      "outputs": []
    },
    {
      "cell_type": "code",
      "metadata": {
        "scrolled": true,
        "id": "RMvDW9c4sJBY",
        "colab_type": "code",
        "outputId": "29209448-e2b5-4052-e2a8-044000c1f0ac",
        "colab": {
          "base_uri": "https://localhost:8080/",
          "height": 230
        }
      },
      "source": [
        "data[:3]"
      ],
      "execution_count": 0,
      "outputs": [
        {
          "output_type": "execute_result",
          "data": {
            "text/html": [
              "<div>\n",
              "<style scoped>\n",
              "    .dataframe tbody tr th:only-of-type {\n",
              "        vertical-align: middle;\n",
              "    }\n",
              "\n",
              "    .dataframe tbody tr th {\n",
              "        vertical-align: top;\n",
              "    }\n",
              "\n",
              "    .dataframe thead th {\n",
              "        text-align: right;\n",
              "    }\n",
              "</style>\n",
              "<table border=\"1\" class=\"dataframe\">\n",
              "  <thead>\n",
              "    <tr style=\"text-align: right;\">\n",
              "      <th></th>\n",
              "      <th>age</th>\n",
              "      <th>yredu</th>\n",
              "      <th>capgain</th>\n",
              "      <th>caploss</th>\n",
              "      <th>workhr</th>\n",
              "      <th>work_ Federal-gov</th>\n",
              "      <th>work_ Local-gov</th>\n",
              "      <th>work_ Private</th>\n",
              "      <th>work_ Self-emp-inc</th>\n",
              "      <th>work_ Self-emp-not-inc</th>\n",
              "      <th>work_ State-gov</th>\n",
              "      <th>work_ Without-pay</th>\n",
              "      <th>marriage_ Divorced</th>\n",
              "      <th>marriage_ Married-AF-spouse</th>\n",
              "      <th>marriage_ Married-civ-spouse</th>\n",
              "      <th>marriage_ Married-spouse-absent</th>\n",
              "      <th>marriage_ Never-married</th>\n",
              "      <th>marriage_ Separated</th>\n",
              "      <th>marriage_ Widowed</th>\n",
              "      <th>occupation_ Adm-clerical</th>\n",
              "      <th>occupation_ Armed-Forces</th>\n",
              "      <th>occupation_ Craft-repair</th>\n",
              "      <th>occupation_ Exec-managerial</th>\n",
              "      <th>occupation_ Farming-fishing</th>\n",
              "      <th>occupation_ Handlers-cleaners</th>\n",
              "      <th>occupation_ Machine-op-inspct</th>\n",
              "      <th>occupation_ Other-service</th>\n",
              "      <th>occupation_ Priv-house-serv</th>\n",
              "      <th>occupation_ Prof-specialty</th>\n",
              "      <th>occupation_ Protective-serv</th>\n",
              "      <th>occupation_ Sales</th>\n",
              "      <th>occupation_ Tech-support</th>\n",
              "      <th>occupation_ Transport-moving</th>\n",
              "      <th>edu_ 10th</th>\n",
              "      <th>edu_ 11th</th>\n",
              "      <th>edu_ 12th</th>\n",
              "      <th>edu_ 1st-4th</th>\n",
              "      <th>edu_ 5th-6th</th>\n",
              "      <th>edu_ 7th-8th</th>\n",
              "      <th>edu_ 9th</th>\n",
              "      <th>edu_ Assoc-acdm</th>\n",
              "      <th>edu_ Assoc-voc</th>\n",
              "      <th>edu_ Bachelors</th>\n",
              "      <th>edu_ Doctorate</th>\n",
              "      <th>edu_ HS-grad</th>\n",
              "      <th>edu_ Masters</th>\n",
              "      <th>edu_ Preschool</th>\n",
              "      <th>edu_ Prof-school</th>\n",
              "      <th>edu_ Some-college</th>\n",
              "      <th>relationship_ Husband</th>\n",
              "      <th>relationship_ Not-in-family</th>\n",
              "      <th>relationship_ Other-relative</th>\n",
              "      <th>relationship_ Own-child</th>\n",
              "      <th>relationship_ Unmarried</th>\n",
              "      <th>relationship_ Wife</th>\n",
              "      <th>sex_ Female</th>\n",
              "      <th>sex_ Male</th>\n",
              "    </tr>\n",
              "  </thead>\n",
              "  <tbody>\n",
              "    <tr>\n",
              "      <th>0</th>\n",
              "      <td>0.301370</td>\n",
              "      <td>0.800000</td>\n",
              "      <td>0.02174</td>\n",
              "      <td>0.0</td>\n",
              "      <td>0.397959</td>\n",
              "      <td>0</td>\n",
              "      <td>0</td>\n",
              "      <td>0</td>\n",
              "      <td>0</td>\n",
              "      <td>0</td>\n",
              "      <td>1</td>\n",
              "      <td>0</td>\n",
              "      <td>0</td>\n",
              "      <td>0</td>\n",
              "      <td>0</td>\n",
              "      <td>0</td>\n",
              "      <td>1</td>\n",
              "      <td>0</td>\n",
              "      <td>0</td>\n",
              "      <td>1</td>\n",
              "      <td>0</td>\n",
              "      <td>0</td>\n",
              "      <td>0</td>\n",
              "      <td>0</td>\n",
              "      <td>0</td>\n",
              "      <td>0</td>\n",
              "      <td>0</td>\n",
              "      <td>0</td>\n",
              "      <td>0</td>\n",
              "      <td>0</td>\n",
              "      <td>0</td>\n",
              "      <td>0</td>\n",
              "      <td>0</td>\n",
              "      <td>0</td>\n",
              "      <td>0</td>\n",
              "      <td>0</td>\n",
              "      <td>0</td>\n",
              "      <td>0</td>\n",
              "      <td>0</td>\n",
              "      <td>0</td>\n",
              "      <td>0</td>\n",
              "      <td>0</td>\n",
              "      <td>1</td>\n",
              "      <td>0</td>\n",
              "      <td>0</td>\n",
              "      <td>0</td>\n",
              "      <td>0</td>\n",
              "      <td>0</td>\n",
              "      <td>0</td>\n",
              "      <td>0</td>\n",
              "      <td>1</td>\n",
              "      <td>0</td>\n",
              "      <td>0</td>\n",
              "      <td>0</td>\n",
              "      <td>0</td>\n",
              "      <td>0</td>\n",
              "      <td>1</td>\n",
              "    </tr>\n",
              "    <tr>\n",
              "      <th>1</th>\n",
              "      <td>0.452055</td>\n",
              "      <td>0.800000</td>\n",
              "      <td>0.00000</td>\n",
              "      <td>0.0</td>\n",
              "      <td>0.122449</td>\n",
              "      <td>0</td>\n",
              "      <td>0</td>\n",
              "      <td>0</td>\n",
              "      <td>0</td>\n",
              "      <td>1</td>\n",
              "      <td>0</td>\n",
              "      <td>0</td>\n",
              "      <td>0</td>\n",
              "      <td>0</td>\n",
              "      <td>1</td>\n",
              "      <td>0</td>\n",
              "      <td>0</td>\n",
              "      <td>0</td>\n",
              "      <td>0</td>\n",
              "      <td>0</td>\n",
              "      <td>0</td>\n",
              "      <td>0</td>\n",
              "      <td>1</td>\n",
              "      <td>0</td>\n",
              "      <td>0</td>\n",
              "      <td>0</td>\n",
              "      <td>0</td>\n",
              "      <td>0</td>\n",
              "      <td>0</td>\n",
              "      <td>0</td>\n",
              "      <td>0</td>\n",
              "      <td>0</td>\n",
              "      <td>0</td>\n",
              "      <td>0</td>\n",
              "      <td>0</td>\n",
              "      <td>0</td>\n",
              "      <td>0</td>\n",
              "      <td>0</td>\n",
              "      <td>0</td>\n",
              "      <td>0</td>\n",
              "      <td>0</td>\n",
              "      <td>0</td>\n",
              "      <td>1</td>\n",
              "      <td>0</td>\n",
              "      <td>0</td>\n",
              "      <td>0</td>\n",
              "      <td>0</td>\n",
              "      <td>0</td>\n",
              "      <td>0</td>\n",
              "      <td>1</td>\n",
              "      <td>0</td>\n",
              "      <td>0</td>\n",
              "      <td>0</td>\n",
              "      <td>0</td>\n",
              "      <td>0</td>\n",
              "      <td>0</td>\n",
              "      <td>1</td>\n",
              "    </tr>\n",
              "    <tr>\n",
              "      <th>2</th>\n",
              "      <td>0.287671</td>\n",
              "      <td>0.533333</td>\n",
              "      <td>0.00000</td>\n",
              "      <td>0.0</td>\n",
              "      <td>0.397959</td>\n",
              "      <td>0</td>\n",
              "      <td>0</td>\n",
              "      <td>1</td>\n",
              "      <td>0</td>\n",
              "      <td>0</td>\n",
              "      <td>0</td>\n",
              "      <td>0</td>\n",
              "      <td>1</td>\n",
              "      <td>0</td>\n",
              "      <td>0</td>\n",
              "      <td>0</td>\n",
              "      <td>0</td>\n",
              "      <td>0</td>\n",
              "      <td>0</td>\n",
              "      <td>0</td>\n",
              "      <td>0</td>\n",
              "      <td>0</td>\n",
              "      <td>0</td>\n",
              "      <td>0</td>\n",
              "      <td>1</td>\n",
              "      <td>0</td>\n",
              "      <td>0</td>\n",
              "      <td>0</td>\n",
              "      <td>0</td>\n",
              "      <td>0</td>\n",
              "      <td>0</td>\n",
              "      <td>0</td>\n",
              "      <td>0</td>\n",
              "      <td>0</td>\n",
              "      <td>0</td>\n",
              "      <td>0</td>\n",
              "      <td>0</td>\n",
              "      <td>0</td>\n",
              "      <td>0</td>\n",
              "      <td>0</td>\n",
              "      <td>0</td>\n",
              "      <td>0</td>\n",
              "      <td>0</td>\n",
              "      <td>0</td>\n",
              "      <td>1</td>\n",
              "      <td>0</td>\n",
              "      <td>0</td>\n",
              "      <td>0</td>\n",
              "      <td>0</td>\n",
              "      <td>0</td>\n",
              "      <td>1</td>\n",
              "      <td>0</td>\n",
              "      <td>0</td>\n",
              "      <td>0</td>\n",
              "      <td>0</td>\n",
              "      <td>0</td>\n",
              "      <td>1</td>\n",
              "    </tr>\n",
              "  </tbody>\n",
              "</table>\n",
              "</div>"
            ],
            "text/plain": [
              "        age     yredu  capgain  ...  relationship_ Wife  sex_ Female  sex_ Male\n",
              "0  0.301370  0.800000  0.02174  ...                   0            0          1\n",
              "1  0.452055  0.800000  0.00000  ...                   0            0          1\n",
              "2  0.287671  0.533333  0.00000  ...                   0            0          1\n",
              "\n",
              "[3 rows x 57 columns]"
            ]
          },
          "metadata": {
            "tags": []
          },
          "execution_count": 15
        }
      ]
    },
    {
      "cell_type": "markdown",
      "metadata": {
        "id": "zcjV6ekusJBa",
        "colab_type": "text"
      },
      "source": [
        "### Part (e) One-Hot Encoding [2 pt]\n",
        "\n",
        "The dataframe `data` contains the cleaned and normalized data that we will use to train our denoising autoencoder.\n",
        "\n",
        "How many **columns** (features) are in the dataframe `data`?\n",
        "\n",
        "Briefly explain where that number come from."
      ]
    },
    {
      "cell_type": "code",
      "metadata": {
        "id": "zLfHDgNfsJBa",
        "colab_type": "code",
        "outputId": "4f4fdab8-2d3b-4b4e-9c3a-d55a8402bac3",
        "colab": {
          "base_uri": "https://localhost:8080/",
          "height": 34
        }
      },
      "source": [
        "print(data.shape)\n",
        "\n",
        "\n",
        "#The number of columns (features) in the dataframe is 57\n",
        "#This number comes from the values of features that don't have a continous number values\n",
        "#being represented in seperate one hot incodings. This is in addition to the normalized\n",
        "#continuous number valued features."
      ],
      "execution_count": 0,
      "outputs": [
        {
          "output_type": "stream",
          "text": [
            "(30718, 57)\n"
          ],
          "name": "stdout"
        }
      ]
    },
    {
      "cell_type": "markdown",
      "metadata": {
        "id": "q7jSYgD8sJBc",
        "colab_type": "text"
      },
      "source": [
        "### Part (f) One-Hot Conversion [3 pt]\n",
        "\n",
        "We will convert the pandas data frame `data` into numpy, so that\n",
        "it can be further converted into a PyTorch tensor.\n",
        "However, in doing so, we lose the column label information that\n",
        "a panda data frame automatically stores.\n",
        "\n",
        "Complete the function `get_categorical_value` that will return\n",
        "the named value of a feature given a one-hot embedding.\n",
        "You may find the global variables `cat_index` and `cat_values`\n",
        "useful. (Display them and figure out what they are first.)\n",
        "\n",
        "We will need this function in the next part of the lab\n",
        "to interpret our autoencoder outputs. So, the input\n",
        "to our function `get_categorical_values` might not \n",
        "actually be \"one-hot\" -- the input may instead \n",
        "contain real-valued predictions from our neural network."
      ]
    },
    {
      "cell_type": "code",
      "metadata": {
        "id": "irapaA7ksJBd",
        "colab_type": "code",
        "colab": {}
      },
      "source": [
        "datanp = data.values.astype(np.float32)"
      ],
      "execution_count": 0,
      "outputs": []
    },
    {
      "cell_type": "code",
      "metadata": {
        "id": "sX4i1C7xsJBf",
        "colab_type": "code",
        "colab": {}
      },
      "source": [
        "cat_index = {}  # Mapping of feature -> start index of feature in a record\n",
        "cat_values = {} # Mapping of feature -> list of categorical values the feature can take\n",
        "\n",
        "# build up the cat_index and cat_values dictionary\n",
        "for i, header in enumerate(data.keys()):\n",
        "    if \"_\" in header: # categorical header\n",
        "        feature, value = header.split()\n",
        "        feature = feature[:-1] # remove the last char; it is always an underscore\n",
        "        if feature not in cat_index:\n",
        "            cat_index[feature] = i\n",
        "            cat_values[feature] = [value]\n",
        "        else:\n",
        "            cat_values[feature].append(value)\n",
        "\n",
        "def get_onehot(record, feature):\n",
        "    \"\"\"\n",
        "    Return the portion of `record` that is the one-hot encoding\n",
        "    of `feature`. For example, since the feature \"work\" is stored\n",
        "    in the indices [5:12] in each record, calling `get_range(record, \"work\")`\n",
        "    is equivalent to accessing `record[5:12]`.\n",
        "    \n",
        "    Args:\n",
        "        - record: a numpy array representing one record, formatted\n",
        "                  the same way as a row in `data.np`\n",
        "        - feature: a string, should be an element of `catcols`\n",
        "    \"\"\"\n",
        "    start_index = cat_index[feature]\n",
        "    stop_index = cat_index[feature] + len(cat_values[feature])\n",
        "    return record[start_index:stop_index]\n",
        "\n",
        "def get_categorical_value(onehot, feature):\n",
        "    \"\"\"\n",
        "    Return the categorical value name of a feature given\n",
        "    a one-hot vector representing the feature.\n",
        "    \n",
        "    Args:\n",
        "        - onehot: a numpy array one-hot representation of the feature\n",
        "        - feature: a string, should be an element of `catcols`\n",
        "        \n",
        "    Examples:\n",
        "    \n",
        "    >>> get_categorical_value(np.array([0., 0., 0., 0., 0., 1., 0.]), \"work\")\n",
        "    'State-gov'\n",
        "    >>> get_categorical_value(np.array([0.1, 0., 1.1, 0.2, 0., 1., 0.]), \"work\")\n",
        "    'Private'\n",
        "    \"\"\n",
        "    # <----- TODO: WRITE YOUR CODE HERE ----->\n",
        "    # You may find the variables `cat_index` and `cat_values` \n",
        "    # (created above) useful. \"\"\"\n",
        "\n",
        "    \n",
        "    #written code\n",
        "    #find first max index of onehot and return matching feature\n",
        "    ind=np.where(onehot==np.amax(onehot))\n",
        "    return cat_values[feature][ind[0][0]]\n",
        "    \n",
        "    \n",
        "    "
      ],
      "execution_count": 0,
      "outputs": []
    },
    {
      "cell_type": "code",
      "metadata": {
        "id": "IbDhMW58sJBh",
        "colab_type": "code",
        "colab": {}
      },
      "source": [
        "# more useful code, used during training, that depends on the function\n",
        "# you write above\n",
        "\n",
        "def get_feature(record, feature):\n",
        "    \"\"\"\n",
        "    Return the categorical feature value of a record\n",
        "    \"\"\"\n",
        "    onehot = get_onehot(record, feature)\n",
        "    return get_categorical_value(onehot, feature)\n",
        "\n",
        "def get_features(record):\n",
        "    \"\"\"\n",
        "    Return a dictionary of all categorical feature values of a record\n",
        "    \"\"\"\n",
        "    return { f: get_feature(record, f) for f in catcols }"
      ],
      "execution_count": 0,
      "outputs": []
    },
    {
      "cell_type": "code",
      "metadata": {
        "id": "aan7JwDVkVAh",
        "colab_type": "code",
        "outputId": "f4e27f3c-00d4-45aa-87be-2b0e8e6d722f",
        "colab": {
          "base_uri": "https://localhost:8080/",
          "height": 51
        }
      },
      "source": [
        "#Testing\n",
        "\n",
        "print(get_categorical_value(np.array([0., 0., 0., 0., 0., 1., 0.]), \"work\"))\n",
        "print(get_categorical_value(np.array([0.1, 0., 1.1, 0.2, 0., 1., 0.]), \"work\"))\n",
        "    "
      ],
      "execution_count": 0,
      "outputs": [
        {
          "output_type": "stream",
          "text": [
            "State-gov\n",
            "Private\n"
          ],
          "name": "stdout"
        }
      ]
    },
    {
      "cell_type": "markdown",
      "metadata": {
        "id": "SS7aO9j3sJBj",
        "colab_type": "text"
      },
      "source": [
        "### Part (g) Train/Test Split [3 pt]\n",
        "\n",
        "Randomly split the data into approximately 70% training, 15% validation and 15% test.\n",
        "\n",
        "Report the number of items in your training, validation, and test set."
      ]
    },
    {
      "cell_type": "code",
      "metadata": {
        "id": "JbOv2knIsJBj",
        "colab_type": "code",
        "outputId": "ef4ecc5c-c896-42ae-bc02-4bd37d3c477d",
        "colab": {
          "base_uri": "https://localhost:8080/",
          "height": 51
        }
      },
      "source": [
        "# set the numpy seed for reproducibility\n",
        "# https://docs.scipy.org/doc/numpy/reference/generated/numpy.random.seed.html\n",
        "np.random.seed(50)\n",
        "\n",
        "# todo\n",
        "np.random.shuffle(datanp)\n",
        "\n",
        "trainn=datanp[:21504]\n",
        "val=datanp[21504:(21504+4607)]\n",
        "test=datanp[(21504+4607):(21504+2*4607)]\n",
        "\n",
        "print(\"train:\",len(trainn))\n",
        "print(\"val and test:\", len(val))\n",
        "\n"
      ],
      "execution_count": 0,
      "outputs": [
        {
          "output_type": "stream",
          "text": [
            "train: 21504\n",
            "val and test: 4607\n"
          ],
          "name": "stdout"
        }
      ]
    },
    {
      "cell_type": "markdown",
      "metadata": {
        "id": "gQbaX_y6sJBk",
        "colab_type": "text"
      },
      "source": [
        "## Part 2. Model Setup [5 pt]\n",
        "\n",
        "### Part (a) [4 pt]\n",
        "\n",
        "Design a fully-connected autoencoder by modifying the `encoder` and `decoder`\n",
        "below.\n",
        "\n",
        "The input to this autoencoder will be the features of the `data`, with\n",
        "one categorical feature recorded as \"missing\". The output of the autoencoder\n",
        "should be the reconstruction of the same features, but with the missing\n",
        "value filled in.\n",
        "\n",
        "**Note**: Do not reduce the dimensionality of the input too much!\n",
        "The output of your embedding is expected to contain information \n",
        "about ~11 features."
      ]
    },
    {
      "cell_type": "code",
      "metadata": {
        "id": "C-YGbBNSsJBl",
        "colab_type": "code",
        "colab": {}
      },
      "source": [
        "from torch import nn\n",
        "\n",
        "class AutoEncoder(nn.Module):\n",
        "    def __init__(self):\n",
        "        super(AutoEncoder, self).__init__()\n",
        "        self.name = \"AutoEn\"\n",
        "        self.encoder = nn.Sequential(\n",
        "            #nn.Linear(57, 57) # TODO -- FILL OUT THE CODE HERE!\n",
        "            nn.Linear(57, 32),\n",
        "            nn.Linear(32, 11)\n",
        "            #nn.Linear(57,11)\n",
        "        )\n",
        "        self.decoder = nn.Sequential(\n",
        "            #nn.Linear(57, 57), # TODO -- FILL OUT THE CODE HERE!\n",
        "            nn.Linear(11, 32),\n",
        "            nn.Linear(32, 57),\n",
        "            #nn.Linear(11,57),\n",
        "            nn.Sigmoid() # get to the range (0, 1)\n",
        "        )\n",
        "\n",
        "    def forward(self, x):\n",
        "        x = self.encoder(x)\n",
        "        x = self.decoder(x)\n",
        "        return x"
      ],
      "execution_count": 0,
      "outputs": []
    },
    {
      "cell_type": "markdown",
      "metadata": {
        "id": "YrPfKtoNsJBm",
        "colab_type": "text"
      },
      "source": [
        "### Part (b) [1 pt]\n",
        "\n",
        "Explain why there is a sigmoid activation in the last step of the decoder.\n",
        "\n",
        "(**Note**: the values inside the data frame `data` and the training code in Part 3 might be helpful.)"
      ]
    },
    {
      "cell_type": "code",
      "metadata": {
        "id": "50vppeZCsJBn",
        "colab_type": "code",
        "outputId": "084fd9c5-c308-410f-b932-8e318412f8e5",
        "colab": {
          "base_uri": "https://localhost:8080/",
          "height": 261
        }
      },
      "source": [
        "#the sigmod function restricts values between 0 and 1.\n",
        "#the values in data are all between 0 and 1 so sigmod allows the newly generated\n",
        "#output to match data.\n",
        "#necessary for finding loss between the two.\n",
        "data[:4]"
      ],
      "execution_count": 0,
      "outputs": [
        {
          "output_type": "execute_result",
          "data": {
            "text/html": [
              "<div>\n",
              "<style scoped>\n",
              "    .dataframe tbody tr th:only-of-type {\n",
              "        vertical-align: middle;\n",
              "    }\n",
              "\n",
              "    .dataframe tbody tr th {\n",
              "        vertical-align: top;\n",
              "    }\n",
              "\n",
              "    .dataframe thead th {\n",
              "        text-align: right;\n",
              "    }\n",
              "</style>\n",
              "<table border=\"1\" class=\"dataframe\">\n",
              "  <thead>\n",
              "    <tr style=\"text-align: right;\">\n",
              "      <th></th>\n",
              "      <th>age</th>\n",
              "      <th>yredu</th>\n",
              "      <th>capgain</th>\n",
              "      <th>caploss</th>\n",
              "      <th>workhr</th>\n",
              "      <th>work_ Federal-gov</th>\n",
              "      <th>work_ Local-gov</th>\n",
              "      <th>work_ Private</th>\n",
              "      <th>work_ Self-emp-inc</th>\n",
              "      <th>work_ Self-emp-not-inc</th>\n",
              "      <th>work_ State-gov</th>\n",
              "      <th>work_ Without-pay</th>\n",
              "      <th>marriage_ Divorced</th>\n",
              "      <th>marriage_ Married-AF-spouse</th>\n",
              "      <th>marriage_ Married-civ-spouse</th>\n",
              "      <th>marriage_ Married-spouse-absent</th>\n",
              "      <th>marriage_ Never-married</th>\n",
              "      <th>marriage_ Separated</th>\n",
              "      <th>marriage_ Widowed</th>\n",
              "      <th>occupation_ Adm-clerical</th>\n",
              "      <th>occupation_ Armed-Forces</th>\n",
              "      <th>occupation_ Craft-repair</th>\n",
              "      <th>occupation_ Exec-managerial</th>\n",
              "      <th>occupation_ Farming-fishing</th>\n",
              "      <th>occupation_ Handlers-cleaners</th>\n",
              "      <th>occupation_ Machine-op-inspct</th>\n",
              "      <th>occupation_ Other-service</th>\n",
              "      <th>occupation_ Priv-house-serv</th>\n",
              "      <th>occupation_ Prof-specialty</th>\n",
              "      <th>occupation_ Protective-serv</th>\n",
              "      <th>occupation_ Sales</th>\n",
              "      <th>occupation_ Tech-support</th>\n",
              "      <th>occupation_ Transport-moving</th>\n",
              "      <th>edu_ 10th</th>\n",
              "      <th>edu_ 11th</th>\n",
              "      <th>edu_ 12th</th>\n",
              "      <th>edu_ 1st-4th</th>\n",
              "      <th>edu_ 5th-6th</th>\n",
              "      <th>edu_ 7th-8th</th>\n",
              "      <th>edu_ 9th</th>\n",
              "      <th>edu_ Assoc-acdm</th>\n",
              "      <th>edu_ Assoc-voc</th>\n",
              "      <th>edu_ Bachelors</th>\n",
              "      <th>edu_ Doctorate</th>\n",
              "      <th>edu_ HS-grad</th>\n",
              "      <th>edu_ Masters</th>\n",
              "      <th>edu_ Preschool</th>\n",
              "      <th>edu_ Prof-school</th>\n",
              "      <th>edu_ Some-college</th>\n",
              "      <th>relationship_ Husband</th>\n",
              "      <th>relationship_ Not-in-family</th>\n",
              "      <th>relationship_ Other-relative</th>\n",
              "      <th>relationship_ Own-child</th>\n",
              "      <th>relationship_ Unmarried</th>\n",
              "      <th>relationship_ Wife</th>\n",
              "      <th>sex_ Female</th>\n",
              "      <th>sex_ Male</th>\n",
              "    </tr>\n",
              "  </thead>\n",
              "  <tbody>\n",
              "    <tr>\n",
              "      <th>0</th>\n",
              "      <td>0.301370</td>\n",
              "      <td>0.800000</td>\n",
              "      <td>0.02174</td>\n",
              "      <td>0.0</td>\n",
              "      <td>0.397959</td>\n",
              "      <td>0</td>\n",
              "      <td>0</td>\n",
              "      <td>0</td>\n",
              "      <td>0</td>\n",
              "      <td>0</td>\n",
              "      <td>1</td>\n",
              "      <td>0</td>\n",
              "      <td>0</td>\n",
              "      <td>0</td>\n",
              "      <td>0</td>\n",
              "      <td>0</td>\n",
              "      <td>1</td>\n",
              "      <td>0</td>\n",
              "      <td>0</td>\n",
              "      <td>1</td>\n",
              "      <td>0</td>\n",
              "      <td>0</td>\n",
              "      <td>0</td>\n",
              "      <td>0</td>\n",
              "      <td>0</td>\n",
              "      <td>0</td>\n",
              "      <td>0</td>\n",
              "      <td>0</td>\n",
              "      <td>0</td>\n",
              "      <td>0</td>\n",
              "      <td>0</td>\n",
              "      <td>0</td>\n",
              "      <td>0</td>\n",
              "      <td>0</td>\n",
              "      <td>0</td>\n",
              "      <td>0</td>\n",
              "      <td>0</td>\n",
              "      <td>0</td>\n",
              "      <td>0</td>\n",
              "      <td>0</td>\n",
              "      <td>0</td>\n",
              "      <td>0</td>\n",
              "      <td>1</td>\n",
              "      <td>0</td>\n",
              "      <td>0</td>\n",
              "      <td>0</td>\n",
              "      <td>0</td>\n",
              "      <td>0</td>\n",
              "      <td>0</td>\n",
              "      <td>0</td>\n",
              "      <td>1</td>\n",
              "      <td>0</td>\n",
              "      <td>0</td>\n",
              "      <td>0</td>\n",
              "      <td>0</td>\n",
              "      <td>0</td>\n",
              "      <td>1</td>\n",
              "    </tr>\n",
              "    <tr>\n",
              "      <th>1</th>\n",
              "      <td>0.452055</td>\n",
              "      <td>0.800000</td>\n",
              "      <td>0.00000</td>\n",
              "      <td>0.0</td>\n",
              "      <td>0.122449</td>\n",
              "      <td>0</td>\n",
              "      <td>0</td>\n",
              "      <td>0</td>\n",
              "      <td>0</td>\n",
              "      <td>1</td>\n",
              "      <td>0</td>\n",
              "      <td>0</td>\n",
              "      <td>0</td>\n",
              "      <td>0</td>\n",
              "      <td>1</td>\n",
              "      <td>0</td>\n",
              "      <td>0</td>\n",
              "      <td>0</td>\n",
              "      <td>0</td>\n",
              "      <td>0</td>\n",
              "      <td>0</td>\n",
              "      <td>0</td>\n",
              "      <td>1</td>\n",
              "      <td>0</td>\n",
              "      <td>0</td>\n",
              "      <td>0</td>\n",
              "      <td>0</td>\n",
              "      <td>0</td>\n",
              "      <td>0</td>\n",
              "      <td>0</td>\n",
              "      <td>0</td>\n",
              "      <td>0</td>\n",
              "      <td>0</td>\n",
              "      <td>0</td>\n",
              "      <td>0</td>\n",
              "      <td>0</td>\n",
              "      <td>0</td>\n",
              "      <td>0</td>\n",
              "      <td>0</td>\n",
              "      <td>0</td>\n",
              "      <td>0</td>\n",
              "      <td>0</td>\n",
              "      <td>1</td>\n",
              "      <td>0</td>\n",
              "      <td>0</td>\n",
              "      <td>0</td>\n",
              "      <td>0</td>\n",
              "      <td>0</td>\n",
              "      <td>0</td>\n",
              "      <td>1</td>\n",
              "      <td>0</td>\n",
              "      <td>0</td>\n",
              "      <td>0</td>\n",
              "      <td>0</td>\n",
              "      <td>0</td>\n",
              "      <td>0</td>\n",
              "      <td>1</td>\n",
              "    </tr>\n",
              "    <tr>\n",
              "      <th>2</th>\n",
              "      <td>0.287671</td>\n",
              "      <td>0.533333</td>\n",
              "      <td>0.00000</td>\n",
              "      <td>0.0</td>\n",
              "      <td>0.397959</td>\n",
              "      <td>0</td>\n",
              "      <td>0</td>\n",
              "      <td>1</td>\n",
              "      <td>0</td>\n",
              "      <td>0</td>\n",
              "      <td>0</td>\n",
              "      <td>0</td>\n",
              "      <td>1</td>\n",
              "      <td>0</td>\n",
              "      <td>0</td>\n",
              "      <td>0</td>\n",
              "      <td>0</td>\n",
              "      <td>0</td>\n",
              "      <td>0</td>\n",
              "      <td>0</td>\n",
              "      <td>0</td>\n",
              "      <td>0</td>\n",
              "      <td>0</td>\n",
              "      <td>0</td>\n",
              "      <td>1</td>\n",
              "      <td>0</td>\n",
              "      <td>0</td>\n",
              "      <td>0</td>\n",
              "      <td>0</td>\n",
              "      <td>0</td>\n",
              "      <td>0</td>\n",
              "      <td>0</td>\n",
              "      <td>0</td>\n",
              "      <td>0</td>\n",
              "      <td>0</td>\n",
              "      <td>0</td>\n",
              "      <td>0</td>\n",
              "      <td>0</td>\n",
              "      <td>0</td>\n",
              "      <td>0</td>\n",
              "      <td>0</td>\n",
              "      <td>0</td>\n",
              "      <td>0</td>\n",
              "      <td>0</td>\n",
              "      <td>1</td>\n",
              "      <td>0</td>\n",
              "      <td>0</td>\n",
              "      <td>0</td>\n",
              "      <td>0</td>\n",
              "      <td>0</td>\n",
              "      <td>1</td>\n",
              "      <td>0</td>\n",
              "      <td>0</td>\n",
              "      <td>0</td>\n",
              "      <td>0</td>\n",
              "      <td>0</td>\n",
              "      <td>1</td>\n",
              "    </tr>\n",
              "    <tr>\n",
              "      <th>3</th>\n",
              "      <td>0.493151</td>\n",
              "      <td>0.400000</td>\n",
              "      <td>0.00000</td>\n",
              "      <td>0.0</td>\n",
              "      <td>0.397959</td>\n",
              "      <td>0</td>\n",
              "      <td>0</td>\n",
              "      <td>1</td>\n",
              "      <td>0</td>\n",
              "      <td>0</td>\n",
              "      <td>0</td>\n",
              "      <td>0</td>\n",
              "      <td>0</td>\n",
              "      <td>0</td>\n",
              "      <td>1</td>\n",
              "      <td>0</td>\n",
              "      <td>0</td>\n",
              "      <td>0</td>\n",
              "      <td>0</td>\n",
              "      <td>0</td>\n",
              "      <td>0</td>\n",
              "      <td>0</td>\n",
              "      <td>0</td>\n",
              "      <td>0</td>\n",
              "      <td>1</td>\n",
              "      <td>0</td>\n",
              "      <td>0</td>\n",
              "      <td>0</td>\n",
              "      <td>0</td>\n",
              "      <td>0</td>\n",
              "      <td>0</td>\n",
              "      <td>0</td>\n",
              "      <td>0</td>\n",
              "      <td>0</td>\n",
              "      <td>1</td>\n",
              "      <td>0</td>\n",
              "      <td>0</td>\n",
              "      <td>0</td>\n",
              "      <td>0</td>\n",
              "      <td>0</td>\n",
              "      <td>0</td>\n",
              "      <td>0</td>\n",
              "      <td>0</td>\n",
              "      <td>0</td>\n",
              "      <td>0</td>\n",
              "      <td>0</td>\n",
              "      <td>0</td>\n",
              "      <td>0</td>\n",
              "      <td>0</td>\n",
              "      <td>1</td>\n",
              "      <td>0</td>\n",
              "      <td>0</td>\n",
              "      <td>0</td>\n",
              "      <td>0</td>\n",
              "      <td>0</td>\n",
              "      <td>0</td>\n",
              "      <td>1</td>\n",
              "    </tr>\n",
              "  </tbody>\n",
              "</table>\n",
              "</div>"
            ],
            "text/plain": [
              "        age     yredu  capgain  ...  relationship_ Wife  sex_ Female  sex_ Male\n",
              "0  0.301370  0.800000  0.02174  ...                   0            0          1\n",
              "1  0.452055  0.800000  0.00000  ...                   0            0          1\n",
              "2  0.287671  0.533333  0.00000  ...                   0            0          1\n",
              "3  0.493151  0.400000  0.00000  ...                   0            0          1\n",
              "\n",
              "[4 rows x 57 columns]"
            ]
          },
          "metadata": {
            "tags": []
          },
          "execution_count": 23
        }
      ]
    },
    {
      "cell_type": "markdown",
      "metadata": {
        "id": "QP_Ca1GBsJBo",
        "colab_type": "text"
      },
      "source": [
        "## Part 3. Training [18] \n",
        "\n",
        "### Part (a) [6 pt]\n",
        "\n",
        "We will train our autoencoder in the following way:\n",
        "\n",
        "- In each iteration, we will hide one of the categorical features using the `zero_out_random_features` function\n",
        "- We will pass the data with one missing feature through the autoencoder, and obtain a reconstruction\n",
        "- We will check how close the reconstruction is compared to the original data -- including the value of the missing feature\n",
        "\n",
        "Complete the code to train the autoencoder, and plot the training and validation loss every few iterations.\n",
        "You may also want to plot training and validation \"accuracy\" every few iterations, as we will define in\n",
        "part (b). You may also want to checkpoint your model every few iterations or epochs.\n",
        "\n",
        "Use `nn.MSELoss()` as your loss function. (Side note: you might recognize that this loss function is not\n",
        "ideal for this problem, but we will use it anyway.)"
      ]
    },
    {
      "cell_type": "code",
      "metadata": {
        "id": "VJMQIWLGsJBo",
        "colab_type": "code",
        "colab": {}
      },
      "source": [
        "def zero_out_feature(records, feature):\n",
        "    \"\"\" Set the feature missing in records, by setting the appropriate\n",
        "    columns of records to 0\n",
        "    \"\"\"\n",
        "    start_index = cat_index[feature]\n",
        "    stop_index = cat_index[feature] + len(cat_values[feature])\n",
        "    records[:, start_index:stop_index] = 0\n",
        "    return records\n",
        "\n",
        "def zero_out_random_feature(records):\n",
        "    \"\"\" Set one random feature missing in records, by setting the \n",
        "    appropriate columns of records to 0\n",
        "    \"\"\"\n",
        "    return zero_out_feature(records, random.choice(catcols))\n",
        "\n",
        "def train(model, train_loader, valid_loader, num_epochs=5, learning_rate=1e-4):\n",
        "    \"\"\" Training loop. You should update this.\"\"\"\n",
        "    torch.manual_seed(42)\n",
        "    criterion = nn.MSELoss()\n",
        "    optimizer = torch.optim.Adam(model.parameters(), lr=learning_rate)\n",
        "    cp=0\n",
        "    n=0\n",
        "    total_train_loss = 0.0\n",
        "    total_train_err = 0.0\n",
        "    total_epoch = 0\n",
        "    \n",
        "    \n",
        "    iters, losses, train_acc, val_acc = [], [], [], []\n",
        "    \n",
        "    n=0\n",
        "    \n",
        "    for epoch in range(num_epochs):\n",
        "        for dataa in iter(train_loader):\n",
        "            datam = zero_out_random_feature(dataa.clone()) # zero out one categorical feature\n",
        "            recon = model(datam)\n",
        "            loss = criterion(recon, dataa)\n",
        "            loss.backward()\n",
        "            optimizer.step()\n",
        "            optimizer.zero_grad()\n",
        "            \n",
        "            iters.append(n)\n",
        "            losses.append(float(loss))\n",
        "            train_acc.append(get_accuracy(model, train_loader)) # compute training accuracy \n",
        "            val_acc.append(get_accuracy(model, valid_loader))  # compute validation accuracy\n",
        "            n += 1\n",
        "            if cp==5:\n",
        "              cp=0    \n",
        "              model_path = get_model_name(model.name, learning_rate, epoch)\n",
        "              torch.save(model.state_dict(), model_path)\n",
        "            print(\"...\", end =\" \") #used to see progress of training\n",
        "        cp=cp+1\n",
        "        print (\"|\", end =\" \")\n",
        "    # plotting\n",
        "    plt.title(\"Training Curve\")\n",
        "    plt.plot(iters, losses, label=\"Train\")\n",
        "    plt.xlabel(\"Iterations\")\n",
        "    plt.ylabel(\"Loss\")\n",
        "    plt.show()\n",
        "\n",
        "    plt.title(\"Training Curve\")  \n",
        "    plt.plot(iters, train_acc, label=\"Train\")\n",
        "    plt.plot(iters, val_acc, label=\"Validation\")\n",
        "    plt.xlabel(\"Iterations\")\n",
        "    plt.ylabel(\"Training Accuracy\")\n",
        "    plt.legend(loc='best')\n",
        "    plt.show()\n",
        "    \n",
        "    print(\"Final Training Accuracy: {}\".format(train_acc[-1])) #output final accuracy of model\n",
        "    print(\"Final Validation Accuracy: {}\".format(val_acc[-1]))\n",
        "def get_model_name(name, learning_rate, epoch):\n",
        "    \"\"\" Generate a name for the model consisting of all the hyperparameter values\n",
        "\n",
        "    Args:\n",
        "        config: Configuration object containing the hyperparameters\n",
        "    Returns:\n",
        "        path: A string with the hyperparameter name and value concatenated\n",
        "    \"\"\"\n",
        "    path = \"model_{0}_bs{1}_lr{2}_epoch{3}\".format(name,\n",
        "                                                   batch_size,\n",
        "                                                   learning_rate,\n",
        "                                                   epoch)\n",
        "    return path\n",
        "  "
      ],
      "execution_count": 0,
      "outputs": []
    },
    {
      "cell_type": "markdown",
      "metadata": {
        "id": "XnF6BKnwsJBp",
        "colab_type": "text"
      },
      "source": [
        "### Part (b) [3 pt]\n",
        "\n",
        "While plotting training and validation loss is valuable, loss values are harder to compare\n",
        "than accuracy percentages. It would be nice to have a measure of \"accuracy\" in this problem.\n",
        "\n",
        "Since we will only be imputing missing categorical values, we will define an accuracy measure.\n",
        "For each record and for each categorical feature, we determine whether\n",
        "the model can predict the categorical feature given all the other features of the record.\n",
        "\n",
        "A function `get_accuracy` is written for you. It is up to you to figure out how to\n",
        "use the function. **You don't need to submit anything in this part.**\n",
        "To earn the marks, correctly plot the training and validation accuracy every few \n",
        "iterations as part of your training curve."
      ]
    },
    {
      "cell_type": "code",
      "metadata": {
        "id": "E00ovN2gsJBp",
        "colab_type": "code",
        "colab": {}
      },
      "source": [
        "def get_accuracy(model, data_loader):\n",
        "    \"\"\"Return the \"accuracy\" of the autoencoder model across a data set.\n",
        "    That is, for each record and for each categorical feature, \n",
        "    we determine whether the model can successfully predict the value\n",
        "    of the categorical feature given all the other features of the \n",
        "    record. The returned \"accuracy\" measure is the percentage of times \n",
        "    that our model is successful.\n",
        "        \n",
        "    Args:\n",
        "       - model: the autoencoder model, an instance of nn.Module\n",
        "       - data_loader: an instance of torch.utils.data.DataLoader\n",
        "\n",
        "    Example (to illustrate how get_accuracy is intended to be called.\n",
        "             Depending on your variable naming this code might require\n",
        "             modification.)\n",
        "\n",
        "        >>> model = AutoEncoder()\n",
        "        >>> vdl = torch.utils.data.DataLoader(data_valid, batch_size=256, shuffle=True)\n",
        "        >>> get_accuracy(model, vdl)\n",
        "    \"\"\"\n",
        "    total = 0\n",
        "    acc = 0\n",
        "    for col in catcols:\n",
        "        for item in data_loader: # minibatches\n",
        "            inp = item.detach().numpy()\n",
        "            out = model(zero_out_feature(item.clone(), col)).detach().numpy()\n",
        "            for i in range(out.shape[0]): # record in minibatch\n",
        "                acc += int(get_feature(out[i], col) == get_feature(inp[i], col))\n",
        "                total += 1\n",
        "    return acc / total"
      ],
      "execution_count": 0,
      "outputs": []
    },
    {
      "cell_type": "markdown",
      "metadata": {
        "id": "vyzL6yU0sJBr",
        "colab_type": "text"
      },
      "source": [
        "### Part (c) [4 pt]\n",
        "\n",
        "Run your updated training code, using reasonable initial hyperparameters.\n",
        "\n",
        "Include your training curve in your submission."
      ]
    },
    {
      "cell_type": "code",
      "metadata": {
        "id": "Dh4nuCWT8tfg",
        "colab_type": "code",
        "outputId": "28a27834-354f-4cca-83c9-f7e06c11cab6",
        "colab": {
          "base_uri": "https://localhost:8080/",
          "height": 122
        }
      },
      "source": [
        "#mount google drive\n",
        "from google.colab import drive\n",
        "drive.mount('/content/gdrive/', force_remount=True)"
      ],
      "execution_count": 0,
      "outputs": [
        {
          "output_type": "stream",
          "text": [
            "Go to this URL in a browser: https://accounts.google.com/o/oauth2/auth?client_id=947318989803-6bn6qk8qdgf4n4g3pfee6491hc0brc4i.apps.googleusercontent.com&redirect_uri=urn%3Aietf%3Awg%3Aoauth%3A2.0%3Aoob&scope=email%20https%3A%2F%2Fwww.googleapis.com%2Fauth%2Fdocs.test%20https%3A%2F%2Fwww.googleapis.com%2Fauth%2Fdrive%20https%3A%2F%2Fwww.googleapis.com%2Fauth%2Fdrive.photos.readonly%20https%3A%2F%2Fwww.googleapis.com%2Fauth%2Fpeopleapi.readonly&response_type=code\n",
            "\n",
            "Enter your authorization code:\n",
            "··········\n",
            "Mounted at /content/gdrive/\n"
          ],
          "name": "stdout"
        }
      ]
    },
    {
      "cell_type": "code",
      "metadata": {
        "id": "sM8gY1QtsJBr",
        "colab_type": "code",
        "outputId": "66effa5d-9e48-48d0-df54-f28c0eb0adc9",
        "colab": {
          "base_uri": "https://localhost:8080/",
          "height": 34
        }
      },
      "source": [
        "torch.manual_seed(400)\n",
        "\n",
        "model = AutoEncoder()\n",
        "tdl = torch.utils.data.DataLoader(trainn, batch_size=256, shuffle=True)\n",
        "vdl = torch.utils.data.DataLoader(val, batch_size=256, shuffle=True)\n",
        "\n",
        "print(trainn[0][0])\n",
        "\n",
        "#train(model, tdl, vdl, num_epochs=5, learning_rate=1e-4)\n",
        "#get_accuracy(model, vdl)\n",
        "\n",
        "#note 256 batch size is far too small, took 2 hours to train"
      ],
      "execution_count": 0,
      "outputs": [
        {
          "output_type": "stream",
          "text": [
            "0.09589041\n"
          ],
          "name": "stdout"
        }
      ]
    },
    {
      "cell_type": "code",
      "metadata": {
        "id": "AHg7y_Tz8teg",
        "colab_type": "code",
        "colab": {}
      },
      "source": [
        ""
      ],
      "execution_count": 0,
      "outputs": []
    },
    {
      "cell_type": "markdown",
      "metadata": {
        "id": "AKII1ESdsJBx",
        "colab_type": "text"
      },
      "source": [
        "### Part (d) [5 pt]\n",
        "\n",
        "Tune your hyperparameters, training at least 4 different models (4 sets of hyperparameters).\n",
        "\n",
        "Do not include all your training curves. Instead, explain what hyperparameters\n",
        "you tried, what their effect was, and what your thought process was as you \n",
        "chose the next set of hyperparameters to try."
      ]
    },
    {
      "cell_type": "code",
      "metadata": {
        "id": "jV3iQJYPsJBx",
        "colab_type": "code",
        "outputId": "87eccea1-3971-42b2-abd5-2256b0a7cf9e",
        "colab": {
          "base_uri": "https://localhost:8080/",
          "height": 624
        }
      },
      "source": [
        "#increasing batch size to lower training time\n",
        "#increase num of epouchs to \n",
        "model = AutoEncoder()\n",
        "tdl = torch.utils.data.DataLoader(trainn, batch_size=2048, shuffle=True)\n",
        "vdl = torch.utils.data.DataLoader(val, batch_size=2048, shuffle=True)\n",
        "train(model, tdl, vdl, num_epochs=5, learning_rate=1e-4)\n",
        "\n",
        "#Final Training Accuracy: 0.3280862475198413\n",
        "#Final Validation Accuracy: 0.3265320888503003\n",
        "#increasing batch size without increasing num of epochs didn't give \n",
        "#enough iterations for the model to learn\n",
        "#loss function decreases slightly from beginning to end"
      ],
      "execution_count": 0,
      "outputs": [
        {
          "output_type": "stream",
          "text": [
            "... ... ... ... ... ... ... ... ... ... ... | ... ... ... ... ... ... ... ... ... ... ... | ... ... ... ... ... ... ... ... ... ... ... | ... ... ... ... ... ... ... ... ... ... ... | ... ... ... ... ... ... ... ... ... ... ... | "
          ],
          "name": "stdout"
        },
        {
          "output_type": "display_data",
          "data": {
            "image/png": "[encoded data removed]",
            "text/plain": [
              "<Figure size 432x288 with 1 Axes>"
            ]
          },
          "metadata": {
            "tags": []
          }
        },
        {
          "output_type": "display_data",
          "data": {
            "image/png": "[encoded data removed]",
            "text/plain": [
              "<Figure size 432x288 with 1 Axes>"
            ]
          },
          "metadata": {
            "tags": []
          }
        },
        {
          "output_type": "stream",
          "text": [
            "Final Training Accuracy: 0.3280862475198413\n",
            "Final Validation Accuracy: 0.3265320888503003\n"
          ],
          "name": "stdout"
        }
      ]
    },
    {
      "cell_type": "code",
      "metadata": {
        "id": "wjow5ahFf9UR",
        "colab_type": "code",
        "outputId": "c50daf41-9cc4-4f02-8ad1-f10e3b4bd08a",
        "colab": {
          "base_uri": "https://localhost:8080/",
          "height": 644
        }
      },
      "source": [
        "#accuracy is continously increasing with time so allow for more training\n",
        "#by increasing num of epouchs. Loss also continously going down but only dropped 0.008\n",
        "#over training in comparison to original 0.2\n",
        "#(aim for ~150)\n",
        "#Final Training Accuracy: 0.22353980654761904\n",
        "#Final Validation Accuracy: 0.22693726937269373\n",
        "\n",
        "model = AutoEncoder()\n",
        "batch_size=2048\n",
        "train(model, tdl, vdl, num_epochs=10, learning_rate=1e-4)\n",
        "\n"
      ],
      "execution_count": 0,
      "outputs": [
        {
          "output_type": "stream",
          "text": [
            "... ... ... ... ... ... ... ... ... ... ... | ... ... ... ... ... ... ... ... ... ... ... | ... ... ... ... ... ... ... ... ... ... ... | ... ... ... ... ... ... ... ... ... ... ... | ... ... ... ... ... ... ... ... ... ... ... | ... ... ... ... ... ... ... ... ... ... ... | ... ... ... ... ... ... ... ... ... ... ... | ... ... ... ... ... ... ... ... ... ... ... | ... ... ... ... ... ... ... ... ... ... ... | ... ... ... ... ... ... ... ... ... ... ... | "
          ],
          "name": "stdout"
        },
        {
          "output_type": "display_data",
          "data": {
            "image/png": "[encoded data removed]",
            "text/plain": [
              "<Figure size 432x288 with 1 Axes>"
            ]
          },
          "metadata": {
            "tags": []
          }
        },
        {
          "output_type": "display_data",
          "data": {
            "image/png": "[encoded data removed]",
            "text/plain": [
              "<Figure size 432x288 with 1 Axes>"
            ]
          },
          "metadata": {
            "tags": []
          }
        },
        {
          "output_type": "stream",
          "text": [
            "Final Training Accuracy: 0.3048192584325397\n",
            "Final Validation Accuracy: 0.30232978800376237\n"
          ],
          "name": "stdout"
        }
      ]
    },
    {
      "cell_type": "code",
      "metadata": {
        "id": "MJWr-gCGu4c0",
        "colab_type": "code",
        "outputId": "14c38993-a88d-4a27-cdaf-a8dfee920e5d",
        "colab": {
          "base_uri": "https://localhost:8080/",
          "height": 644
        }
      },
      "source": [
        "#increaing num of epochs increased accuracy improved from 10% to 15%\n",
        "#increasing learning rate to improve increased accuracy\n",
        "\n",
        "      \n",
        "#Final Training Accuracy: 0.4591858878968254\n",
        "#Final Validation Accuracy: 0.45694956949569493\n",
        "model = AutoEncoder()\n",
        "tdl = torch.utils.data.DataLoader(trainn, batch_size=2048, shuffle=True)\n",
        "vdl = torch.utils.data.DataLoader(val, batch_size=2048, shuffle=True)\n",
        "train(model, tdl, vdl, num_epochs=10, learning_rate=1e-3)\n",
        "\n",
        "#training minimized after 60 iterations.\n",
        "#loss training curve too steep.\n"
      ],
      "execution_count": 0,
      "outputs": [
        {
          "output_type": "stream",
          "text": [
            "... ... ... ... ... ... ... ... ... ... ... | ... ... ... ... ... ... ... ... ... ... ... | ... ... ... ... ... ... ... ... ... ... ... | ... ... ... ... ... ... ... ... ... ... ... | ... ... ... ... ... ... ... ... ... ... ... | ... ... ... ... ... ... ... ... ... ... ... | ... ... ... ... ... ... ... ... ... ... ... | ... ... ... ... ... ... ... ... ... ... ... | ... ... ... ... ... ... ... ... ... ... ... | ... ... ... ... ... ... ... ... ... ... ... | "
          ],
          "name": "stdout"
        },
        {
          "output_type": "display_data",
          "data": {
            "image/png": "[encoded data removed]",
            "text/plain": [
              "<Figure size 432x288 with 1 Axes>"
            ]
          },
          "metadata": {
            "tags": []
          }
        },
        {
          "output_type": "display_data",
          "data": {
            "image/png": "[encoded data removed]",
            "text/plain": [
              "<Figure size 432x288 with 1 Axes>"
            ]
          },
          "metadata": {
            "tags": []
          }
        },
        {
          "output_type": "stream",
          "text": [
            "Final Training Accuracy: 0.4591858878968254\n",
            "Final Validation Accuracy: 0.45694956949569493\n"
          ],
          "name": "stdout"
        }
      ]
    },
    {
      "cell_type": "code",
      "metadata": {
        "id": "WZoNBLDPvfPu",
        "colab_type": "code",
        "outputId": "03d6d435-1532-4272-cfeb-253cdf7fe1d4",
        "colab": {
          "base_uri": "https://localhost:8080/",
          "height": 644
        }
      },
      "source": [
        "#increaing num of epochs increased accuracy improved from 10% to 15%\n",
        "#increasing learning rate to improve increased accuracy\n",
        "\n",
        "#lower batch size \n",
        "#lower num of epochs to have similar number of iterations (time reasoning)\n",
        "#increase learning rate -> in training accuracy increased by 0.15\n",
        "\n",
        "model = AutoEncoder()\n",
        "tdl = torch.utils.data.DataLoader(trainn, batch_size=1024, shuffle=True)\n",
        "vdl = torch.utils.data.DataLoader(val, batch_size=1024, shuffle=True)\n",
        "train(model, tdl, vdl, num_epochs=4, learning_rate=1e-3)\n",
        "\n",
        "#Final Training Accuracy: 0.45698474702380953\n",
        "#Final Validation Accuracy: 0.45376600824831775\n",
        "#number of interations to platuee in loss training curve increased, longer time learning\n",
        "#little change in accuracy"
      ],
      "execution_count": 0,
      "outputs": [
        {
          "output_type": "stream",
          "text": [
            "... ... ... ... ... ... ... ... ... ... ... ... ... ... ... ... ... ... ... ... ... | ... ... ... ... ... ... ... ... ... ... ... ... ... ... ... ... ... ... ... ... ... | ... ... ... ... ... ... ... ... ... ... ... ... ... ... ... ... ... ... ... ... ... | ... ... ... ... ... ... ... ... ... ... ... ... ... ... ... ... ... ... ... ... ... | "
          ],
          "name": "stdout"
        },
        {
          "output_type": "display_data",
          "data": {
            "image/png": "[encoded data removed]",
            "text/plain": [
              "<Figure size 432x288 with 1 Axes>"
            ]
          },
          "metadata": {
            "tags": []
          }
        },
        {
          "output_type": "display_data",
          "data": {
            "image/png": "[encoded data removed]",
            "text/plain": [
              "<Figure size 432x288 with 1 Axes>"
            ]
          },
          "metadata": {
            "tags": []
          }
        },
        {
          "output_type": "stream",
          "text": [
            "Final Training Accuracy: 0.45698474702380953\n",
            "Final Validation Accuracy: 0.45376600824831775\n"
          ],
          "name": "stdout"
        }
      ]
    },
    {
      "cell_type": "code",
      "metadata": {
        "id": "e6vPFUdK1CNu",
        "colab_type": "code",
        "outputId": "c7c612bf-d4dc-468c-dafd-ec60f3f2d6d7",
        "colab": {
          "base_uri": "https://localhost:8080/",
          "height": 644
        }
      },
      "source": [
        "#run longer\n",
        "model = AutoEncoder()\n",
        "tdl = torch.utils.data.DataLoader(trainn, batch_size=1024, shuffle=True)\n",
        "vdl = torch.utils.data.DataLoader(val, batch_size=1024, shuffle=True)\n",
        "train(model, tdl, vdl, num_epochs=12, learning_rate=1e-3)\n",
        "#Final Training Accuracy: 0.5511842757936508\n",
        "#Final Validation Accuracy: 0.544208089139715\n",
        "\n",
        "#running the model longer improved the accuracy, the method of training the model\n",
        "#is still effective given more time. Loss function lowering. training accuracy\n",
        "#curve jumps in accuracy are more spread out. 50 interation spread at 10 interations \n",
        "#to 150 spread after 50 interations. "
      ],
      "execution_count": 0,
      "outputs": [
        {
          "output_type": "stream",
          "text": [
            "... ... ... ... ... ... ... ... ... ... ... ... ... ... ... ... ... ... ... ... ... | ... ... ... ... ... ... ... ... ... ... ... ... ... ... ... ... ... ... ... ... ... | ... ... ... ... ... ... ... ... ... ... ... ... ... ... ... ... ... ... ... ... ... | ... ... ... ... ... ... ... ... ... ... ... ... ... ... ... ... ... ... ... ... ... | ... ... ... ... ... ... ... ... ... ... ... ... ... ... ... ... ... ... ... ... ... | ... ... ... ... ... ... ... ... ... ... ... ... ... ... ... ... ... ... ... ... ... | ... ... ... ... ... ... ... ... ... ... ... ... ... ... ... ... ... ... ... ... ... | ... ... ... ... ... ... ... ... ... ... ... ... ... ... ... ... ... ... ... ... ... | ... ... ... ... ... ... ... ... ... ... ... ... ... ... ... ... ... ... ... ... ... | ... ... ... ... ... ... ... ... ... ... ... ... ... ... ... ... ... ... ... ... ... | ... ... ... ... ... ... ... ... ... ... ... ... ... ... ... ... ... ... ... ... ... | ... ... ... ... ... ... ... ... ... ... ... ... ... ... ... ... ... ... ... ... ... | "
          ],
          "name": "stdout"
        },
        {
          "output_type": "display_data",
          "data": {
            "image/png": "[encoded data removed]",
            "text/plain": [
              "<Figure size 432x288 with 1 Axes>"
            ]
          },
          "metadata": {
            "tags": []
          }
        },
        {
          "output_type": "display_data",
          "data": {
            "image/png": "[encoded data removed]",
            "text/plain": [
              "<Figure size 432x288 with 1 Axes>"
            ]
          },
          "metadata": {
            "tags": []
          }
        },
        {
          "output_type": "stream",
          "text": [
            "Final Training Accuracy: 0.5511842757936508\n",
            "Final Validation Accuracy: 0.544208089139715\n"
          ],
          "name": "stdout"
        }
      ]
    },
    {
      "cell_type": "markdown",
      "metadata": {
        "id": "8lcT9CXhsJBy",
        "colab_type": "text"
      },
      "source": [
        "## Part 4. Testing [12 pt]\n",
        "\n",
        "### Part (a) [2 pt]\n",
        "\n",
        "Compute and report the test accuracy."
      ]
    },
    {
      "cell_type": "code",
      "metadata": {
        "id": "3KRK_D3isJBy",
        "colab_type": "code",
        "outputId": "2f6c621c-bd28-4e23-c64a-8997b3dc55ac",
        "colab": {
          "base_uri": "https://localhost:8080/",
          "height": 34
        }
      },
      "source": [
        "testdl = torch.utils.data.DataLoader(test, batch_size=1024, shuffle=True)\n",
        "print(\"test accuracy: \", get_accuracy(model, testdl))"
      ],
      "execution_count": 0,
      "outputs": [
        {
          "output_type": "stream",
          "text": [
            "test accuracy:  0.5557846754938137\n"
          ],
          "name": "stdout"
        }
      ]
    },
    {
      "cell_type": "markdown",
      "metadata": {
        "id": "cxtFoMgksJBz",
        "colab_type": "text"
      },
      "source": [
        "### Part (b) [4 pt]\n",
        "\n",
        "Based on the test accuracy alone, it is difficult to assess whether our model\n",
        "is actually performing well. We don't know whether a high accuracy is due to\n",
        "the simplicity of the problem, or if a poor accuracy is a result of the inherent\n",
        "difficulty of the problem.\n",
        "\n",
        "It is therefore very important to be able to compare our model to at least one\n",
        "alternative. In particular, we consider a simple **baseline**\n",
        "model that is not very computationally expensive. Our neural network\n",
        "should at least outperform this baseline model. If our network is not much\n",
        "better than the baseline, then it is not doing well.\n",
        "\n",
        "For our data imputation problem, consider the following baseline model:\n",
        "to predict a missing feature, the baseline model will look at the **most common value** of the feature in the training set. \n",
        "\n",
        "For example, if the feature \"marriage\" is missing, then this model's prediction will be the most common value for \"marriage\" in the training set, which happens to be \"Married-civ-spouse\".\n",
        "\n",
        "What would be the test accuracy of this baseline model?\n",
        "\n",
        "**Do not actually implement this baseline model. You should be able to compute the \n",
        "test accuracy by reasoning about how the basline model behaves.**"
      ]
    },
    {
      "cell_type": "code",
      "metadata": {
        "id": "WRcJcrKNsJB0",
        "colab_type": "code",
        "outputId": "34d752e5-3578-4a3d-e4e2-d3a53956dd58",
        "colab": {
          "base_uri": "https://localhost:8080/",
          "height": 102
        }
      },
      "source": [
        "#The test accuracy would be the average percentage of the most common value being the value of a feature\n",
        "#over a large set of data this estimation would be approached and be a maximum accuracy the baseline could achieve.\n",
        "\n",
        "#use sum and pick out the index of each greatest value in a feature range by spliting output and \n",
        "#inputting into get_categorical_value\n",
        "\n",
        "#divide the first 5 by n because they have continous values\n",
        "\n",
        "#The first 5 continous values would require using an uncertaininty to justify correction\n",
        "#choices. For this estimation only looked at 6/5 of the features in calculating\n",
        "#the test accuracy with the one hot enocoded classifications.\n",
        "\n",
        "merge=np.sum(trainn,0)\n",
        "print(cat_index)\n",
        "n=len(trainn)\n",
        "temp=['work', 'marriage', 'occupation', 'edu', 'relationship', 'sex']\n",
        "t1=[]\n",
        "t2=[]\n",
        "popular_feature=[]\n",
        "merge=merge/n\n",
        "for i in range(5):\n",
        "  popular_feature.append(merge[i])\n",
        "  \n",
        "title=[]#titel of most common values\n",
        "prop=[] #store probablity of most common value (one hot only)\n",
        "for i in range(len(temp)):\n",
        "  x=cat_index[temp[i]]\n",
        "  y=len(cat_values[temp[i]])\n",
        "  #print(x,y)\n",
        "  #print(merge[x:x+y])\n",
        "  m=merge[x:x+y]\n",
        "  ind=np.where(m==np.amax(m))\n",
        "  #print(ind[0][0])\n",
        "  z=cat_values[temp[i]][ind[0][0]]\n",
        "  title.append(z)\n",
        "  prop.append(m[ind[0][0]]/np.sum(m))\n",
        "print(popular_feature)\n",
        "print(title)\n",
        "print(\"How common each of the most common value (one hot only) are\",prop)\n",
        "\n",
        "\n",
        "print(\"testing accuracy estiamtion :\", sum(prop)/len(prop))\n",
        "\n",
        "#therefore 45.85%\n",
        "\n",
        "\n",
        "\n",
        "\n"
      ],
      "execution_count": 0,
      "outputs": [
        {
          "output_type": "stream",
          "text": [
            "{'work': 5, 'marriage': 12, 'occupation': 19, 'edu': 33, 'relationship': 49, 'sex': 55}\n",
            "[0.2930006, 0.6093285, 0.011048789, 0.020513482, 0.40726453]\n",
            "['Private', 'Married-civ-spouse', 'Prof-specialty', 'HS-grad', 'Husband', 'Male']\n",
            "How common each of the most common value (one hot only) are [0.7426525, 0.46289062, 0.13509116, 0.3247303, 0.40992373, 0.6759208]\n",
            "testing accuracy estiamtion : 0.4585348467032115\n"
          ],
          "name": "stdout"
        }
      ]
    },
    {
      "cell_type": "markdown",
      "metadata": {
        "id": "A0DeGs0CsJB1",
        "colab_type": "text"
      },
      "source": [
        "### Part (c) [1 pt]\n",
        "\n",
        "How does your test accuracy from part (a) compared to your basline test accuracy in part (b)?"
      ]
    },
    {
      "cell_type": "code",
      "metadata": {
        "id": "24gAouTAsJB1",
        "colab_type": "code",
        "colab": {}
      },
      "source": [
        "#55.57 a) to 45.85% b)\n",
        "#~10% better"
      ],
      "execution_count": 0,
      "outputs": []
    },
    {
      "cell_type": "markdown",
      "metadata": {
        "id": "GhAZDL2_sJB2",
        "colab_type": "text"
      },
      "source": [
        "### Part (d) [1 pt]\n",
        "\n",
        "Look at the first item in your test data. \n",
        "Do you think it is reasonable for a human\n",
        "to be able to guess this person's education level\n",
        "based on their other features? Explain."
      ]
    },
    {
      "cell_type": "code",
      "metadata": {
        "id": "4lMBsikesJB3",
        "colab_type": "code",
        "outputId": "f6ed5150-2baf-47db-e69f-08018f44bbbb",
        "colab": {
          "base_uri": "https://localhost:8080/",
          "height": 346
        }
      },
      "source": [
        "#recreate get_accuracy random emptying of one feature\n",
        "\n",
        "\n",
        "\n",
        "for item in testdl: # minibatches\n",
        "       print(\"edu before 0'd out: \",item.detach().numpy()[0][33:48])\n",
        "       x=zero_out_feature(item.clone(), \"edu\")\n",
        "       break\n",
        "\n",
        "\n",
        "print(\"edu after 0'd out :\",x.detach().numpy()[0][33:48])\n",
        "\n",
        "print(\"test case: \",x.detach().numpy()[0])\n",
        "df[:3]\n",
        "\n",
        "\n",
        "#with information displayed with panda, a person can guess the education level\n",
        "#for example iwth df[0] with with the age being 0.3 (meaning between 17 and 78)\n",
        "#the person is around 30. also never marred, occupation of adm-clerical and male.\n",
        "#using bias people would be able to use information they've collected in their lives\n",
        "# to assume the education level of this person.\n"
      ],
      "execution_count": 0,
      "outputs": [
        {
          "output_type": "stream",
          "text": [
            "edu before 0'd out:  [0. 0. 0. 0. 0. 0. 0. 0. 0. 0. 0. 1. 0. 0. 0.]\n",
            "edu after 0'd out : [0. 0. 0. 0. 0. 0. 0. 0. 0. 0. 0. 0. 0. 0. 0.]\n",
            "test case:  [0.30136988 0.53333336 0.         0.         0.4489796  0.\n",
            " 0.         1.         0.         0.         0.         0.\n",
            " 0.         0.         1.         0.         0.         0.\n",
            " 0.         0.         0.         0.         0.         0.\n",
            " 0.         1.         0.         0.         0.         0.\n",
            " 0.         0.         0.         0.         0.         0.\n",
            " 0.         0.         0.         0.         0.         0.\n",
            " 0.         0.         0.         0.         0.         0.\n",
            " 0.         1.         0.         0.         0.         0.\n",
            " 0.         0.         1.        ]\n"
          ],
          "name": "stdout"
        },
        {
          "output_type": "execute_result",
          "data": {
            "text/html": [
              "<div>\n",
              "<style scoped>\n",
              "    .dataframe tbody tr th:only-of-type {\n",
              "        vertical-align: middle;\n",
              "    }\n",
              "\n",
              "    .dataframe tbody tr th {\n",
              "        vertical-align: top;\n",
              "    }\n",
              "\n",
              "    .dataframe thead th {\n",
              "        text-align: right;\n",
              "    }\n",
              "</style>\n",
              "<table border=\"1\" class=\"dataframe\">\n",
              "  <thead>\n",
              "    <tr style=\"text-align: right;\">\n",
              "      <th></th>\n",
              "      <th>age</th>\n",
              "      <th>yredu</th>\n",
              "      <th>capgain</th>\n",
              "      <th>caploss</th>\n",
              "      <th>workhr</th>\n",
              "      <th>work</th>\n",
              "      <th>marriage</th>\n",
              "      <th>occupation</th>\n",
              "      <th>edu</th>\n",
              "      <th>relationship</th>\n",
              "      <th>sex</th>\n",
              "    </tr>\n",
              "  </thead>\n",
              "  <tbody>\n",
              "    <tr>\n",
              "      <th>0</th>\n",
              "      <td>0.301370</td>\n",
              "      <td>0.800000</td>\n",
              "      <td>0.02174</td>\n",
              "      <td>0.0</td>\n",
              "      <td>0.397959</td>\n",
              "      <td>State-gov</td>\n",
              "      <td>Never-married</td>\n",
              "      <td>Adm-clerical</td>\n",
              "      <td>Bachelors</td>\n",
              "      <td>Not-in-family</td>\n",
              "      <td>Male</td>\n",
              "    </tr>\n",
              "    <tr>\n",
              "      <th>1</th>\n",
              "      <td>0.452055</td>\n",
              "      <td>0.800000</td>\n",
              "      <td>0.00000</td>\n",
              "      <td>0.0</td>\n",
              "      <td>0.122449</td>\n",
              "      <td>Self-emp-not-inc</td>\n",
              "      <td>Married-civ-spouse</td>\n",
              "      <td>Exec-managerial</td>\n",
              "      <td>Bachelors</td>\n",
              "      <td>Husband</td>\n",
              "      <td>Male</td>\n",
              "    </tr>\n",
              "    <tr>\n",
              "      <th>2</th>\n",
              "      <td>0.287671</td>\n",
              "      <td>0.533333</td>\n",
              "      <td>0.00000</td>\n",
              "      <td>0.0</td>\n",
              "      <td>0.397959</td>\n",
              "      <td>Private</td>\n",
              "      <td>Divorced</td>\n",
              "      <td>Handlers-cleaners</td>\n",
              "      <td>HS-grad</td>\n",
              "      <td>Not-in-family</td>\n",
              "      <td>Male</td>\n",
              "    </tr>\n",
              "  </tbody>\n",
              "</table>\n",
              "</div>"
            ],
            "text/plain": [
              "        age     yredu  capgain  ...         edu    relationship    sex\n",
              "0  0.301370  0.800000  0.02174  ...   Bachelors   Not-in-family   Male\n",
              "1  0.452055  0.800000  0.00000  ...   Bachelors         Husband   Male\n",
              "2  0.287671  0.533333  0.00000  ...     HS-grad   Not-in-family   Male\n",
              "\n",
              "[3 rows x 11 columns]"
            ]
          },
          "metadata": {
            "tags": []
          },
          "execution_count": 321
        }
      ]
    },
    {
      "cell_type": "markdown",
      "metadata": {
        "id": "ckwUDcAvsJB4",
        "colab_type": "text"
      },
      "source": [
        "### Part (e) [2 pt]\n",
        "\n",
        "What is your model's prediction of this person's education\n",
        "level, given their other features?\n"
      ]
    },
    {
      "cell_type": "code",
      "metadata": {
        "id": "QLSUqEKDsJB4",
        "colab_type": "code",
        "outputId": "6a336c62-4f46-4e8a-835a-5f21c616a5a8",
        "colab": {
          "base_uri": "https://localhost:8080/",
          "height": 289
        }
      },
      "source": [
        "output= model(x).detach().numpy()\n",
        "print(output[0])\n",
        "zz=output[0][33:48]\n",
        "print(zz)\n",
        "print(np.amax(zz))\n",
        "ind=np.where(zz==np.amax(zz))[0][0]\n",
        "print(ind)\n",
        "print(cat_values[\"edu\"][11])\n",
        "#My model predicted the person was a hs-grad"
      ],
      "execution_count": 0,
      "outputs": [
        {
          "output_type": "stream",
          "text": [
            "[0.31243473 0.6324662  0.00594048 0.01103679 0.44661796 0.01647902\n",
            " 0.07101594 0.7161312  0.00425451 0.1133352  0.02168867 0.00759723\n",
            " 0.03156086 0.00392606 0.95976466 0.01149749 0.07445091 0.01786044\n",
            " 0.00368849 0.02339892 0.0021885  0.18017574 0.1474253  0.01444072\n",
            " 0.00823526 0.00639746 0.02113109 0.00680094 0.11029044 0.00905846\n",
            " 0.09366754 0.01373739 0.01268372 0.01339521 0.00331806 0.00965883\n",
            " 0.00338666 0.00921711 0.01816329 0.00976046 0.02177169 0.01521331\n",
            " 0.15978096 0.02565191 0.32145125 0.04090612 0.00295213 0.0086539\n",
            " 0.1603212  0.9490576  0.05822798 0.00554621 0.0481644  0.04283664\n",
            " 0.01869353 0.00335518 0.9969342 ]\n",
            "[0.01339521 0.00331806 0.00965883 0.00338666 0.00921711 0.01816329\n",
            " 0.00976046 0.02177169 0.01521331 0.15978096 0.02565191 0.32145125\n",
            " 0.04090612 0.00295213 0.0086539 ]\n",
            "0.32145125\n",
            "11\n",
            "HS-grad\n"
          ],
          "name": "stdout"
        }
      ]
    },
    {
      "cell_type": "markdown",
      "metadata": {
        "id": "PZWI0b3OsJB5",
        "colab_type": "text"
      },
      "source": [
        "### Part (f) [2 pt]\n",
        "\n",
        "What is the baseline model's prediction\n",
        "of this person's education level?"
      ]
    },
    {
      "cell_type": "code",
      "metadata": {
        "id": "suMz5vfIsJB6",
        "colab_type": "code",
        "outputId": "4f48d414-7039-435b-8528-7e038190cf0c",
        "colab": {
          "base_uri": "https://localhost:8080/",
          "height": 34
        }
      },
      "source": [
        "#index 4th of most common values (one hot) is for edu\n",
        "print(title[3])\n",
        "#the baseline predicted that was a hs grad"
      ],
      "execution_count": 0,
      "outputs": [
        {
          "output_type": "stream",
          "text": [
            "HS-grad\n"
          ],
          "name": "stdout"
        }
      ]
    },
    {
      "cell_type": "code",
      "metadata": {
        "id": "0yBcrYGhJP-s",
        "colab_type": "code",
        "colab": {}
      },
      "source": [
        ""
      ],
      "execution_count": 0,
      "outputs": []
    }
  ]
}